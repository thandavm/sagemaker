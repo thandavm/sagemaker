{
 "cells": [
  {
   "cell_type": "code",
   "execution_count": null,
   "metadata": {},
   "outputs": [],
   "source": [
    "import boto3\n",
    "import pandas as pd\n",
    "import json\n",
    "\n",
    "### Option 1\n",
    "body = ('caucasian,female,0,75,3,34,0,11,0,0,9,,,,').encode(\"utf-8\")\n",
    "\n",
    "### Option 2\n",
    "body = pd.DataFrame(\n",
    "    [['caucasian', 'female', 0, '75', '3', '34', '0', '11', '0', '0', '9', '', '', '', '']]\n",
    ").to_csv(header=False, index=False).encode(\"utf-8\")\n",
    "\n",
    "### Option 3\n",
    "with open('test.json') as f:\n",
    "  data = json.load(f)\n",
    "  \n",
    "values = list(data.values())\n",
    "body = (','.join(str(v) for v in values)).encode('utf-8')\n",
    "\n",
    "### Call the model\n",
    "client = boto3.client(\"runtime.sagemaker\")\n",
    "response = client.invoke_endpoint(\n",
    "    EndpointName=\"canvas-testmodel\",\n",
    "    ContentType=\"text/csv\",\n",
    "    Body=body,\n",
    "    Accept=\"application/json\"\n",
    ")\n",
    "\n",
    "result = response['Body'].read().decode('utf-8')\n",
    "print(result)"
   ]
  }
 ],
 "metadata": {
  "language_info": {
   "name": "python"
  }
 },
 "nbformat": 4,
 "nbformat_minor": 2
}
