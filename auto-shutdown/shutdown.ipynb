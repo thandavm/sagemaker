{
 "cells": [
  {
   "cell_type": "code",
   "execution_count": 2,
   "metadata": {},
   "outputs": [],
   "source": [
    "import boto3   \n",
    "import datetime\n",
    "\n",
    "sm_client = boto3.client('sagemaker')\n",
    "cw_client = boto3.client('cloudwatch')\n",
    "\n",
    "IDLE_TIME_IN_SECONDS = 3600\n",
    "\n",
    "now = datetime.datetime.utcnow()\n",
    "past = now - datetime.timedelta(seconds=IDLE_TIME_IN_SECONDS) "
   ]
  },
  {
   "cell_type": "code",
   "execution_count": 3,
   "metadata": {},
   "outputs": [],
   "source": [
    "def is_serverless_endpoint(client, endpoint_name):\n",
    "    endpoint = client.describe_endpoint(EndpointName = endpoint_name)\n",
    "    endpoint_config = client.describe_endpoint_config(EndpointConfigName = endpoint[\"EndpointConfigName\"])\n",
    "    product_variants = endpoint_config[\"ProductionVariants\"]\n",
    "    return \"ServerlessConfig\" in product_variants[0]"
   ]
  },
  {
   "cell_type": "code",
   "execution_count": 4,
   "metadata": {},
   "outputs": [
    {
     "name": "stdout",
     "output_type": "stream",
     "text": [
      "['hf-llm-starcoder-2024-02-19-21-50-38-531', 'Endpoint-20240219-172343']\n"
     ]
    }
   ],
   "source": [
    "endpoint_names = []\n",
    "endpoints =  sm_client.list_endpoints(\n",
    "    SortBy = 'CreationTime',\n",
    "    SortOrder = 'Descending',\n",
    "    StatusEquals = 'InService',\n",
    ")[\"Endpoints\"]\n",
    "\n",
    "for each in endpoints:\n",
    "    name = each[\"EndpointName\"]\n",
    "    if is_serverless_endpoint(sm_client, name):\n",
    "        continue\n",
    "    endpoint_names.append(name)\n",
    "    \n",
    "print(endpoint_names)"
   ]
  },
  {
   "cell_type": "code",
   "execution_count": 94,
   "metadata": {},
   "outputs": [],
   "source": [
    "idle_endpoints = []\n",
    "for endpoint_name in endpoint_names:\n",
    "    response = cw_client.get_metric_statistics(\n",
    "        Namespace='AWS/SageMaker',\n",
    "        MetricName='Invocations',\n",
    "        Dimensions=[\n",
    "            {\n",
    "                'Name': 'EndpointName',\n",
    "                'Value': endpoint_name\n",
    "            },\n",
    "            {\n",
    "                'Name': 'VariantName',\n",
    "                'Value': 'AllTraffic',\n",
    "            },\n",
    "        ],\n",
    "        StartTime=past, \n",
    "        EndTime=now,\n",
    "        Period=IDLE_TIME_IN_SECONDS,\n",
    "        Statistics=['Sum']\n",
    "    )\n",
    "    if response['Datapoints'] ==[] or response['Datapoints'][0]['Sum'] == 0.0:\n",
    "        idle_endpoints.append(endpoint_name)"
   ]
  },
  {
   "cell_type": "code",
   "execution_count": null,
   "metadata": {},
   "outputs": [],
   "source": [
    "for endpoint in idle_endpoints:\n",
    "    response = sm_client.delete_endpoint(EndpointName=endpoint)\n",
    "    print(f\"Deleted endpoint {endpoint}\")"
   ]
  },
  {
   "cell_type": "code",
   "execution_count": 92,
   "metadata": {},
   "outputs": [
    {
     "name": "stdout",
     "output_type": "stream",
     "text": [
      "The invocation count for hf-llm-starcoder-2024-02-19-21-50-38-531 in the last 30 minutes is 0.0\n"
     ]
    }
   ],
   "source": [
    "endpoint_name = endpoint_names[0]\n",
    "seconds_in_one_hour = 3600\n",
    "\n",
    "response = cw_client.get_metric_statistics(\n",
    "    Namespace='AWS/SageMaker',\n",
    "    MetricName='Invocations',\n",
    "    Dimensions=[\n",
    "        {\n",
    "            'Name': 'EndpointName',\n",
    "            'Value': endpoint_name\n",
    "        },\n",
    "        {\n",
    "            'Name': 'VariantName',\n",
    "            'Value': 'AllTraffic',\n",
    "        },\n",
    "    ],\n",
    "    StartTime=past, \n",
    "    EndTime=now,\n",
    "    Period=seconds_in_one_hour,\n",
    "    Statistics=['Sum']\n",
    ")\n",
    "invocation_count = response['Datapoints'][0]['Sum']\n",
    "print(f'The invocation count for {endpoint_name} in the last 60 minutes is {invocation_count}')"
   ]
  }
 ],
 "metadata": {
  "kernelspec": {
   "display_name": "base",
   "language": "python",
   "name": "python3"
  },
  "language_info": {
   "codemirror_mode": {
    "name": "ipython",
    "version": 3
   },
   "file_extension": ".py",
   "mimetype": "text/x-python",
   "name": "python",
   "nbconvert_exporter": "python",
   "pygments_lexer": "ipython3",
   "version": "3.11.5"
  }
 },
 "nbformat": 4,
 "nbformat_minor": 2
}
