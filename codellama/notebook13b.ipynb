{
 "cells": [
  {
   "cell_type": "code",
   "execution_count": 1,
   "metadata": {},
   "outputs": [],
   "source": [
    "import boto3\n",
    "import json\n",
    "\n",
    "client = boto3.client(\"sagemaker-runtime\")\n",
    "endpoint13b_name = 'jumpstart-dft-llama-codellama-13b-i-20240210-203037'"
   ]
  },
  {
   "cell_type": "code",
   "execution_count": 2,
   "metadata": {},
   "outputs": [],
   "source": [
    "def query_endpoint(payload):\n",
    "    client = boto3.client('runtime.sagemaker')\n",
    "    response = client.invoke_endpoint(\n",
    "        EndpointName=endpoint13b_name,\n",
    "        ContentType='application/json',\n",
    "        Body=json.dumps(payload).encode('utf-8'),\n",
    "    )\n",
    "    response = response[\"Body\"].read().decode(\"utf8\")\n",
    "    response = json.loads(response)\n",
    "    return response"
   ]
  },
  {
   "cell_type": "code",
   "execution_count": 3,
   "metadata": {},
   "outputs": [],
   "source": [
    "def print_completion(prompt: str, response: str) -> None:\n",
    "    bold, unbold = '\\033[1m', '\\033[0m'\n",
    "    print(f\"{bold}> Input{unbold}\\n{prompt}{bold}\\n> Output{unbold}\\n{response[0]['generated_text']}\\n\")"
   ]
  },
  {
   "cell_type": "code",
   "execution_count": 5,
   "metadata": {},
   "outputs": [],
   "source": [
    "from typing import List, Dict\n",
    "\n",
    "def format_instructions(instructions: List[Dict[str, str]]) -> List[str]:\n",
    "    \"\"\"Format instructions for Code Llama.\n",
    "    \n",
    "    The model only supports 'system', 'user' and 'assistant' roles, starting with 'system', then 'user' and \n",
    "    alternating (u/a/u/a/u...). The last message must be from 'user'.\n",
    "    \"\"\"\n",
    "    prompt: List[str] = []\n",
    "\n",
    "    if instructions[0][\"role\"] == \"system\":\n",
    "        content = \"\".join([\"<<SYS>>\\n\", instructions[0][\"content\"], \"\\n<</SYS>>\\n\\n\", instructions[1][\"content\"]])\n",
    "        instructions = [{\"role\": instructions[1][\"role\"], \"content\": content}] + instructions[2:]\n",
    "\n",
    "    for user, answer in zip(instructions[::2], instructions[1::2]):\n",
    "        prompt.extend([\"<s>\", \"[INST] \", (user[\"content\"]).strip(), \" [/INST] \", (answer[\"content\"]).strip(), \"</s>\"])\n",
    "\n",
    "    prompt.extend([\"<s>\", \"[INST] \", (instructions[-1][\"content\"]).strip(), \" [/INST] \"])\n",
    "\n",
    "    return \"\".join(prompt)"
   ]
  },
  {
   "cell_type": "code",
   "execution_count": 11,
   "metadata": {},
   "outputs": [],
   "source": [
    "question = \"Write a python function for bubble sort algorithm\""
   ]
  },
  {
   "cell_type": "code",
   "execution_count": 12,
   "metadata": {},
   "outputs": [],
   "source": [
    "messages = [\n",
    "      {\n",
    "            \"role\": \"system\",\n",
    "            \"content\": \"You are an expert programmer that helps to write Python code based on the user request, with concise explanations. Don't be too verbose.\",\n",
    "      },\n",
    "      {\n",
    "            \"role\": \"user\",\n",
    "            \"content\": question ,\n",
    "      }\n",
    "]\n",
    "\n",
    "prompt = format_instructions(messages)"
   ]
  },
  {
   "cell_type": "code",
   "execution_count": 13,
   "metadata": {},
   "outputs": [
    {
     "data": {
      "text/plain": [
       "\"<s>[INST] <<SYS>>\\nYou are an expert programmer that helps to write Python code based on the user request, with concise explanations. Don't be too verbose.\\n<</SYS>>\\n\\nWrite a python function for bubble sort algorithm [/INST] \""
      ]
     },
     "execution_count": 13,
     "metadata": {},
     "output_type": "execute_result"
    }
   ],
   "source": [
    "prompt"
   ]
  },
  {
   "cell_type": "code",
   "execution_count": 14,
   "metadata": {},
   "outputs": [
    {
     "name": "stdout",
     "output_type": "stream",
     "text": [
      "\u001b[1m> Input\u001b[0m\n",
      "<s>[INST] <<SYS>>\n",
      "You are an expert programmer that helps to write Python code based on the user request, with concise explanations. Don't be too verbose.\n",
      "<</SYS>>\n",
      "\n",
      "Write a python function for bubble sort algorithm [/INST] \u001b[1m\n",
      "> Output\u001b[0m\n",
      "```\n",
      "def bubble_sort(arr):\n",
      "    n = len(arr)\n",
      "    for i in range(n-1):\n",
      "        for j in range(0, n-i-1):\n",
      "            if arr[j] > arr[j+1]:\n",
      "                arr[j], arr[j+1] = arr[j+1], arr[j]\n",
      "    return arr\n",
      "```\n",
      "This function takes an array as input and sorts it using the bubble sort algorithm. The algorithm works by iterating through the array and comparing adjacent elements. If an element is greater than the next element, they are swapped. This process is repeated until the array is sorted. The function returns the sorted array.\n",
      "\n"
     ]
    }
   ],
   "source": [
    "payload = {\"inputs\": prompt, \"parameters\": {\"max_new_tokens\": 256, \"temperature\": 0.2, \"top_p\": 0.9}}\n",
    "response = query_endpoint(payload)\n",
    "print_completion(prompt, response)"
   ]
  }
 ],
 "metadata": {
  "kernelspec": {
   "display_name": "base",
   "language": "python",
   "name": "python3"
  },
  "language_info": {
   "codemirror_mode": {
    "name": "ipython",
    "version": 3
   },
   "file_extension": ".py",
   "mimetype": "text/x-python",
   "name": "python",
   "nbconvert_exporter": "python",
   "pygments_lexer": "ipython3",
   "version": "3.11.5"
  }
 },
 "nbformat": 4,
 "nbformat_minor": 2
}
